{
 "cells": [
  {
   "cell_type": "code",
   "execution_count": 16,
   "metadata": {},
   "outputs": [],
   "source": [
    "#Data Pre-precessing\n",
    "\n",
    "import numpy as np\n",
    "import pandas as pd\n",
    "import csv\n",
    "from sklearn import preprocessing\n",
    "\n",
    "def word2num(x,y):\n",
    "    return [i for i in range(len(y)) if y[i] == x]\n",
    "\n",
    "def data_precessing(source_datafile,handled_datafile):\n",
    "    file_data = open(handled_datafile,'w',newline='') #Write dataset\n",
    "\n",
    "    with open(source_datafile,'r') as data_soure:\n",
    "        csv_read = csv.reader(data_soure)\n",
    "        csv_write = csv.writer(file_data)\n",
    "        for row in csv_read:\n",
    "            temp = np.array(row)\n",
    "            \n",
    "            #Protocol\n",
    "            protocol_list = ['tcp','udp','icmp']\n",
    "            if temp[1] in protocol_list:\n",
    "                temp[1] = word2num(temp[1],protocol_list)[0]\n",
    "\n",
    "            #Service\n",
    "            service_list = ['aol','auth','bgp','courier','csnet_ns','ctf','daytime','discard','domain','domain_u',\n",
    "                    'echo','eco_i','ecr_i','efs','exec','finger','ftp','ftp_data','gopher','harvest','hostnames',\n",
    "                    'http','http_2784','http_443','http_8001','imap4','IRC','iso_tsap','klogin','kshell','ldap',\n",
    "                    'link','login','mtp','name','netbios_dgm','netbios_ns','netbios_ssn','netstat','nnsp','nntp',\n",
    "                    'ntp_u','other','pm_dump','pop_2','pop_3','printer','private','red_i','remote_job','rje','shell',\n",
    "                    'smtp','sql_net','ssh','sunrpc','supdup','systat','telnet','tftp_u','tim_i','time','urh_i','urp_i',\n",
    "                    'uucp','uucp_path','vmnet','whois','X11','Z39_50']\n",
    "            if temp[2] in service_list:\n",
    "                temp[2] = word2num(temp[2],service_list)[0]\n",
    "        \n",
    "            #Flag\n",
    "            flag_list = ['OTH','REJ','RSTO','RSTOS0','RSTR','S0','S1','S2','S3','SF','SH']\n",
    "            if temp[3] in flag_list:\n",
    "                temp[3] = word2num(temp[3],flag_list)[0]\n",
    "\n",
    "            #State\n",
    "            if(temp[41] == 'normal.'):\n",
    "                temp[41] = 1\n",
    "            else:\n",
    "                temp[41] = 0\n",
    "\n",
    "            csv_write.writerow(temp)\n",
    "        file_data.close()\n",
    "    \n",
    "    #One-Hot Encoding\n",
    "    with open(handled_datafile) as onehot_file:\n",
    "        data_matrix = np.loadtxt(onehot_file, delimiter=\",\")\n",
    "\n",
    "    enc = preprocessing.OneHotEncoder()\n",
    "    enc.fit(data_matrix[:,[1,2,3]])\n",
    "    en_matrix = np.zeros((len(data_matrix),80))\n",
    "\n",
    "    for i in range(len(data_matrix)):\n",
    "        en_temp = enc.transform([data_matrix[i,[1,2,3]]]).toarray()\n",
    "        en_matrix[i,:] = en_temp\n",
    "    \n",
    "    np.savetxt('/Users/ziyuanjiang/dstoolbox/datasetkdd/onehotdata.csv',en_matrix.astype(int),delimiter=',',fmt='%.0f')\n",
    "    \n",
    "    data_fin = np.hstack((en_matrix,np.delete(data_matrix,[1,2,3],axis=1)))\n",
    "    np.savetxt('/Users/ziyuanjiang/dstoolbox/datasetkdd/onehotdata1.csv',data_fin.astype(int),delimiter=',',fmt='%.0f')\n",
    "    \n",
    "    return 0\n"
   ]
  },
  {
   "cell_type": "code",
   "execution_count": 17,
   "metadata": {},
   "outputs": [
    {
     "data": {
      "text/plain": [
       "0"
      ]
     },
     "execution_count": 17,
     "metadata": {},
     "output_type": "execute_result"
    }
   ],
   "source": [
    "source_datafile = '/Users/ziyuanjiang/dstoolbox/datasetkdd/testdata'\n",
    "handled_datafile = '/Users/ziyuanjiang/dstoolbox/datasetkdd/testdata_new.csv'\n",
    "\n",
    "data_precessing(source_datafile,handled_datafile)"
   ]
  }
 ],
 "metadata": {
  "kernelspec": {
   "display_name": "Python 3.9.13 ('base')",
   "language": "python",
   "name": "python3"
  },
  "language_info": {
   "codemirror_mode": {
    "name": "ipython",
    "version": 3
   },
   "file_extension": ".py",
   "mimetype": "text/x-python",
   "name": "python",
   "nbconvert_exporter": "python",
   "pygments_lexer": "ipython3",
   "version": "3.9.13"
  },
  "orig_nbformat": 4,
  "vscode": {
   "interpreter": {
    "hash": "2eec127254b684b54ce2ae14a40925d658715d5dcaa225ef3ad098efa1e72b1d"
   }
  }
 },
 "nbformat": 4,
 "nbformat_minor": 2
}
