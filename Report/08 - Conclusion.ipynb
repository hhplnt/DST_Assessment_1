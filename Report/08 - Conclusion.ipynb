{
 "cells": [
  {
   "cell_type": "markdown",
   "metadata": {},
   "source": [
    "# Conclusion\n",
    "In this project, our main task is to train a model that can classify the kddcup1999 dataset, a model of network security that contains a large dataset of network connections. We need to train the classifier model using the annotated dataset. In the course of the project, we first made a binary classification model, i.e. classifying connections into two categories: normal and abnormal. Then, we also used a multi-classification model to classify the abnormal connections into four sub-categories normal, probe, ur2, ddos, and r2l.\n",
    "\n",
    "## Binary classification\n",
    "\n",
    "## Multiple classification\n",
    "\n",
    "\n",
    "## model 1\n",
    "\n",
    "## model 2\n",
    "\n",
    "## model 3\n"
   ]
  }
 ],
 "metadata": {
  "language_info": {
   "name": "python"
  },
  "orig_nbformat": 4
 },
 "nbformat": 4,
 "nbformat_minor": 2
}
