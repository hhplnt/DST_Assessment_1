{
 "cells": [
  {
   "cell_type": "markdown",
   "metadata": {},
   "source": [
    "# Conclusion\n",
    "\n",
    "In this project, our main task is to train a model that can classify the kddcup1999 dataset, a model of network security that contains a large dataset of network connections. We need to train the classifier model using the annotated dataset. In the course of the project, we first made a binary classification model, i.e. classifying connections into two categories: normal and abnormal. Then, we also used a multi-classification model to classify the abnormal connections into four sub-categories normal, probe, ur2, ddos, and r2l.\n",
    "\n",
    "## Binary classification\n",
    "\n",
    "In binary classification, we found that most of the models were highly accurate for kdd1999 binary classification and we used models such as svm, kNN, and regression. These types of models are accurate for identifying anomalous connections and can achieve an accuracy of 99%.\n",
    "\n",
    "## Multiple classification\n",
    "\n",
    "In the multivariate classification model, there are two types of classification, which are to divide the anomalous connections into forty categories, or into five broad categories. Firstly, we tried to divide the anomalous connections into forty classes by trying the svm support vector machine model, but the application of this model to a multi-classification situation required training multiple models and the final results were unsatisfactory. Then, we tried kNN as a classifier, which was fast to train but inefficient in prediction. Finally, we used decision trees and random forests, which have better results for multi-classification.\n",
    "\n",
    "\n",
    "## model 1\n",
    "\n",
    "## model 2\n",
    "\n",
    "## model 3 - Ziyuan Jiang\n",
    "\n",
    "For this model, I firstly coded the discrete variables in the dataset using one-hot, and secondly, normalised the dataset due to the large variation in size between the data in the dataset, which may lead to the model having suboptimal weights for specific features.\n",
    "\n",
    "In this model, I mainly used the kNN approach. I also tried using support vector machines, but the training as well as the segmentation space was relatively poor, and after reviewing relevant papers, I found that I needed to analyse the dataset in depth before I could improve the accuracy and efficiency of such algorithms."
   ]
  }
 ],
 "metadata": {
  "kernelspec": {
   "display_name": "Python 3.9.13 ('base')",
   "language": "python",
   "name": "python3"
  },
  "language_info": {
   "name": "python",
   "version": "3.9.13"
  },
  "orig_nbformat": 4,
  "vscode": {
   "interpreter": {
    "hash": "2eec127254b684b54ce2ae14a40925d658715d5dcaa225ef3ad098efa1e72b1d"
   }
  }
 },
 "nbformat": 4,
 "nbformat_minor": 2
}
