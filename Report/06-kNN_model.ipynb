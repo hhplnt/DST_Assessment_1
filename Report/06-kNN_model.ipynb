{
 "cells": [
  {
   "cell_type": "code",
   "execution_count": 2,
   "metadata": {},
   "outputs": [],
   "source": [
    "#Data Pre-precessing\n",
    "\n",
    "import numpy as np\n",
    "import pandas as pd\n",
    "import csv\n",
    "from sklearn import preprocessing\n",
    "\n",
    "def word2num(x,y):\n",
    "    return [i for i in range(len(y)) if y[i] == x]\n",
    "\n",
    "def data_precessing(source_datafile,handled_datafile):\n",
    "    file_data = open(handled_datafile,'w',newline='') #Write dataset\n",
    "\n",
    "    with open(source_datafile,'r') as data_soure:\n",
    "        csv_read = csv.reader(data_soure)\n",
    "        csv_write = csv.writer(file_data)\n",
    "        for row in csv_read:\n",
    "            temp = np.array(row)\n",
    "            \n",
    "            #Protocol\n",
    "            protocol_list = ['tcp','udp','icmp']\n",
    "            if temp[1] in protocol_list:\n",
    "                temp[1] = word2num(temp[1],protocol_list)[0]\n",
    "\n",
    "            #Service\n",
    "            service_list = ['aol','auth','bgp','courier','csnet_ns','ctf','daytime','discard','domain','domain_u',\n",
    "                    'echo','eco_i','ecr_i','efs','exec','finger','ftp','ftp_data','gopher','harvest','hostnames',\n",
    "                    'http','http_2784','http_443','http_8001','imap4','IRC','iso_tsap','klogin','kshell','ldap',\n",
    "                    'link','login','mtp','name','netbios_dgm','netbios_ns','netbios_ssn','netstat','nnsp','nntp',\n",
    "                    'ntp_u','other','pm_dump','pop_2','pop_3','printer','private','red_i','remote_job','rje','shell',\n",
    "                    'smtp','sql_net','ssh','sunrpc','supdup','systat','telnet','tftp_u','tim_i','time','urh_i','urp_i',\n",
    "                    'uucp','uucp_path','vmnet','whois','X11','Z39_50']\n",
    "            if temp[2] in service_list:\n",
    "                temp[2] = word2num(temp[2],service_list)[0]\n",
    "        \n",
    "            #Flag\n",
    "            flag_list = ['OTH','REJ','RSTO','RSTOS0','RSTR','S0','S1','S2','S3','SF','SH']\n",
    "            if temp[3] in flag_list:\n",
    "                temp[3] = word2num(temp[3],flag_list)[0]\n",
    "\n",
    "            #State\n",
    "            if(temp[41] == 'normal'):\n",
    "                temp[41] = 0\n",
    "            elif (temp[41] == 'DDoS'):\n",
    "                temp[41] = 1\n",
    "            elif (temp[41] == 'UR2'):\n",
    "                temp[41] = 2\n",
    "            elif (temp[41] == 'R2L'):\n",
    "                temp[41] = 3\n",
    "            else:\n",
    "                temp[41] = 4\n",
    "            csv_write.writerow(temp)\n",
    "        file_data.close()\n",
    "\n",
    "    return 0\n",
    "    \n",
    "def onehot(ori_data, handled_datafile):\n",
    "    #One-Hot Encoding\n",
    "    with open('/Users/ziyuanjiang/dstoolbox/set/kddcup_pre') as onehot_file:\n",
    "        data_matrix = np.loadtxt(onehot_file, delimiter=\",\")\n",
    "\n",
    "    with open(ori_data) as onehot_file1:\n",
    "        data_matrix_source = np.loadtxt(onehot_file1, delimiter=\",\")\n",
    "\n",
    "    enc = preprocessing.OneHotEncoder()\n",
    "    enc.fit(data_matrix[:,[1,2,3]])\n",
    "    en_matrix = np.zeros((len(data_matrix_source),80))\n",
    "\n",
    "    for i in range(len(data_matrix_source)):\n",
    "        en_temp = enc.transform([data_matrix_source[i,[1,2,3]]]).toarray()\n",
    "        en_matrix[i,:] = en_temp\n",
    "\n",
    "    \n",
    "    data_fin = np.hstack((en_matrix,np.delete(data_matrix_source,[1,2,3],axis=1)))\n",
    "    np.savetxt(handled_datafile,data_fin.astype(int),delimiter=',',fmt='%.0f')\n",
    "    "
   ]
  },
  {
   "cell_type": "code",
   "execution_count": 72,
   "metadata": {},
   "outputs": [
    {
     "data": {
      "text/plain": [
       "0"
      ]
     },
     "execution_count": 72,
     "metadata": {},
     "output_type": "execute_result"
    }
   ],
   "source": [
    "source_datafile = '/Users/ziyuanjiang/dstoolbox/set/train'\n",
    "handled_datafile = '/Users/ziyuanjiang/dstoolbox/set/train_pre'\n",
    "\n",
    "data_precessing(source_datafile,handled_datafile)"
   ]
  },
  {
   "cell_type": "code",
   "execution_count": 73,
   "metadata": {},
   "outputs": [
    {
     "data": {
      "text/plain": [
       "0"
      ]
     },
     "execution_count": 73,
     "metadata": {},
     "output_type": "execute_result"
    }
   ],
   "source": [
    "source_datafile = '/Users/ziyuanjiang/dstoolbox/set/kddcup'\n",
    "handled_datafile = '/Users/ziyuanjiang/dstoolbox/set/kddcup_pre'\n",
    "\n",
    "data_precessing(source_datafile,handled_datafile)"
   ]
  },
  {
   "cell_type": "code",
   "execution_count": 74,
   "metadata": {},
   "outputs": [],
   "source": [
    "source_datafile = '/Users/ziyuanjiang/dstoolbox/set/train_pre'\n",
    "handled_datafile = '/Users/ziyuanjiang/dstoolbox/set/train_onehot'\n",
    "\n",
    "onehot(source_datafile,handled_datafile)"
   ]
  },
  {
   "cell_type": "code",
   "execution_count": 75,
   "metadata": {},
   "outputs": [],
   "source": [
    "source_datafile = '/Users/ziyuanjiang/dstoolbox/set/test'\n",
    "handled_datafile = '/Users/ziyuanjiang/dstoolbox/set/test_pre'\n",
    "\n",
    "data_precessing(source_datafile,handled_datafile)\n",
    "onehot('/Users/ziyuanjiang/dstoolbox/set/test_pre','/Users/ziyuanjiang/dstoolbox/set/test_onehot')"
   ]
  },
  {
   "cell_type": "code",
   "execution_count": 3,
   "metadata": {},
   "outputs": [],
   "source": [
    "\n",
    "from sklearn import preprocessing\n",
    "import pandas as pd\n",
    "\n",
    "file = '/Users/ziyuanjiang/dstoolbox/set/train_onehot'\n",
    "\n",
    "with open(file) as file_op:\n",
    "    data_matrix = np.loadtxt(file_op, delimiter=\",\")\n",
    "\n",
    "file = '/Users/ziyuanjiang/dstoolbox/set/test_onehot'\n",
    "\n",
    "with open(file) as file_op:\n",
    "    test_data = np.loadtxt(file_op, delimiter=\",\")\n"
   ]
  },
  {
   "cell_type": "code",
   "execution_count": 6,
   "metadata": {},
   "outputs": [],
   "source": [
    "from sklearn import preprocessing\n",
    "import pandas as pd\n",
    "from sklearn.model_selection import train_test_split\n",
    "min_max_scaler = preprocessing.MinMaxScaler()\n",
    "x_minmax = min_max_scaler.fit_transform(data_matrix[:,0:118])\n",
    "fin_data = np.hstack((x_minmax,data_matrix[:,118:119]))\n",
    "\n",
    "x_minmax = min_max_scaler.fit_transform(test_data[:,0:118])\n",
    "fintest_data = np.hstack((x_minmax,test_data[:,118:119]))\n",
    "\n",
    "\n",
    "train, test = train_test_split(fin_data, test_size=0.3)"
   ]
  },
  {
   "cell_type": "code",
   "execution_count": 10,
   "metadata": {},
   "outputs": [],
   "source": [
    "en_matrix = np.zeros((len(train),5))\n",
    "\n",
    "for i in range(len(train)):\n",
    "    en_matrix[i,int(train[i,118:119])] = 1"
   ]
  },
  {
   "cell_type": "code",
   "execution_count": 15,
   "metadata": {},
   "outputs": [],
   "source": [
    "import matplotlib.pyplot as plt\n",
    "import numpy as np\n",
    "from sklearn.datasets import make_blobs\n",
    "from sklearn.neighbors import KNeighborsClassifier\n",
    "from sklearn.model_selection import train_test_split\n",
    "from sklearn import neighbors\n",
    "\n",
    "X = train[:,0:118]\n",
    "Y = en_matrix\n",
    "data = make_blobs(n_samples=311232, n_features=118, centers=5,cluster_std=1.0, random_state=8)  # 此处data为一个元组\n",
    "#X, Y = data  \n",
    "\n",
    "\n",
    "clf = neighbors.KNeighborsClassifier()\n",
    "clf.fit(X, Y)\n",
    "\n",
    "result = clf.predict(test_data[:,0:118])\n",
    "\n"
   ]
  },
  {
   "cell_type": "code",
   "execution_count": 17,
   "metadata": {},
   "outputs": [],
   "source": [
    "res = np.zeros((len(result),1))\n",
    "for i in range(len(result)):\n",
    "    for j in range(5):\n",
    "        if result[i,j] == 1:\n",
    "            res[i,0] = j\n",
    "\n"
   ]
  },
  {
   "cell_type": "code",
   "execution_count": 18,
   "metadata": {},
   "outputs": [
    {
     "name": "stdout",
     "output_type": "stream",
     "text": [
      "[41818]\n"
     ]
    }
   ],
   "source": [
    "\n",
    "print (sum(res==test_data[:,118:119])) "
   ]
  }
 ],
 "metadata": {
  "kernelspec": {
   "display_name": "Python 3.9.13 ('base')",
   "language": "python",
   "name": "python3"
  },
  "language_info": {
   "codemirror_mode": {
    "name": "ipython",
    "version": 3
   },
   "file_extension": ".py",
   "mimetype": "text/x-python",
   "name": "python",
   "nbconvert_exporter": "python",
   "pygments_lexer": "ipython3",
   "version": "3.9.13"
  },
  "orig_nbformat": 4,
  "vscode": {
   "interpreter": {
    "hash": "2eec127254b684b54ce2ae14a40925d658715d5dcaa225ef3ad098efa1e72b1d"
   }
  }
 },
 "nbformat": 4,
 "nbformat_minor": 2
}
