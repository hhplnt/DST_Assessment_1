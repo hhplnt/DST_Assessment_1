{
 "cells": [
  {
   "cell_type": "markdown",
   "metadata": {},
   "source": [
    "# binary detection"
   ]
  },
  {
   "cell_type": "code",
   "execution_count": 1,
   "metadata": {},
   "outputs": [],
   "source": [
    "import pandas as pd\n",
    "import numpy as np\n",
    "import sys\n",
    "import sklearn\n",
    "import io\n",
    "import random\n",
    "import time\n"
   ]
  },
  {
   "cell_type": "code",
   "execution_count": 2,
   "metadata": {},
   "outputs": [
    {
     "name": "stdout",
     "output_type": "stream",
     "text": [
      "Dimensions of the Traindata: (494021, 42)\n",
      "Dimensions of the Testdata: (311029, 42)\n"
     ]
    }
   ],
   "source": [
    "col_names = [\"duration\",\"protocol_type\",\"service\",\"flag\",\"src_bytes\",\n",
    "    \"dst_bytes\",\"land\",\"wrong_fragment\",\"urgent\",\"hot\",\"num_failed_logins\",\n",
    "    \"logged_in\",\"num_compromised\",\"root_shell\",\"su_attempted\",\"num_root\",\n",
    "    \"num_file_creations\",\"num_shells\",\"num_access_files\",\"num_outbound_cmds\",\n",
    "    \"is_host_login\",\"is_guest_login\",\"count\",\"srv_count\",\"serror_rate\",\n",
    "    \"srv_serror_rate\",\"rerror_rate\",\"srv_rerror_rate\",\"same_srv_rate\",\n",
    "    \"diff_srv_rate\",\"srv_diff_host_rate\",\"dst_host_count\",\"dst_host_srv_count\",\n",
    "    \"dst_host_same_srv_rate\",\"dst_host_diff_srv_rate\",\"dst_host_same_src_port_rate\",\n",
    "    \"dst_host_srv_diff_host_rate\",\"dst_host_serror_rate\",\"dst_host_srv_serror_rate\",\n",
    "    \"dst_host_rerror_rate\",\"dst_host_srv_rerror_rate\",\"label\"]\n",
    "\n",
    "\n",
    "traindata = pd.read_csv('kddcup.data_10_percent',header=None, names = col_names)\n",
    "testdata = pd.read_csv('corrected', header=None, names = col_names)\n",
    "print('Dimensions of the Traindata:',traindata.shape)\n",
    "print('Dimensions of the Testdata:',testdata.shape)\n"
   ]
  },
  {
   "cell_type": "code",
   "execution_count": 3,
   "metadata": {},
   "outputs": [
    {
     "data": {
      "text/html": [
       "<div>\n",
       "<style scoped>\n",
       "    .dataframe tbody tr th:only-of-type {\n",
       "        vertical-align: middle;\n",
       "    }\n",
       "\n",
       "    .dataframe tbody tr th {\n",
       "        vertical-align: top;\n",
       "    }\n",
       "\n",
       "    .dataframe thead th {\n",
       "        text-align: right;\n",
       "    }\n",
       "</style>\n",
       "<table border=\"1\" class=\"dataframe\">\n",
       "  <thead>\n",
       "    <tr style=\"text-align: right;\">\n",
       "      <th></th>\n",
       "      <th>duration</th>\n",
       "      <th>protocol_type</th>\n",
       "      <th>service</th>\n",
       "      <th>flag</th>\n",
       "      <th>src_bytes</th>\n",
       "      <th>dst_bytes</th>\n",
       "      <th>land</th>\n",
       "      <th>wrong_fragment</th>\n",
       "      <th>urgent</th>\n",
       "      <th>hot</th>\n",
       "      <th>...</th>\n",
       "      <th>dst_host_srv_count</th>\n",
       "      <th>dst_host_same_srv_rate</th>\n",
       "      <th>dst_host_diff_srv_rate</th>\n",
       "      <th>dst_host_same_src_port_rate</th>\n",
       "      <th>dst_host_srv_diff_host_rate</th>\n",
       "      <th>dst_host_serror_rate</th>\n",
       "      <th>dst_host_srv_serror_rate</th>\n",
       "      <th>dst_host_rerror_rate</th>\n",
       "      <th>dst_host_srv_rerror_rate</th>\n",
       "      <th>label</th>\n",
       "    </tr>\n",
       "  </thead>\n",
       "  <tbody>\n",
       "    <tr>\n",
       "      <th>0</th>\n",
       "      <td>0</td>\n",
       "      <td>tcp</td>\n",
       "      <td>http</td>\n",
       "      <td>SF</td>\n",
       "      <td>181</td>\n",
       "      <td>5450</td>\n",
       "      <td>0</td>\n",
       "      <td>0</td>\n",
       "      <td>0</td>\n",
       "      <td>0</td>\n",
       "      <td>...</td>\n",
       "      <td>9</td>\n",
       "      <td>1.0</td>\n",
       "      <td>0.0</td>\n",
       "      <td>0.11</td>\n",
       "      <td>0.0</td>\n",
       "      <td>0.0</td>\n",
       "      <td>0.0</td>\n",
       "      <td>0.0</td>\n",
       "      <td>0.0</td>\n",
       "      <td>normal.</td>\n",
       "    </tr>\n",
       "    <tr>\n",
       "      <th>1</th>\n",
       "      <td>0</td>\n",
       "      <td>tcp</td>\n",
       "      <td>http</td>\n",
       "      <td>SF</td>\n",
       "      <td>239</td>\n",
       "      <td>486</td>\n",
       "      <td>0</td>\n",
       "      <td>0</td>\n",
       "      <td>0</td>\n",
       "      <td>0</td>\n",
       "      <td>...</td>\n",
       "      <td>19</td>\n",
       "      <td>1.0</td>\n",
       "      <td>0.0</td>\n",
       "      <td>0.05</td>\n",
       "      <td>0.0</td>\n",
       "      <td>0.0</td>\n",
       "      <td>0.0</td>\n",
       "      <td>0.0</td>\n",
       "      <td>0.0</td>\n",
       "      <td>normal.</td>\n",
       "    </tr>\n",
       "    <tr>\n",
       "      <th>2</th>\n",
       "      <td>0</td>\n",
       "      <td>tcp</td>\n",
       "      <td>http</td>\n",
       "      <td>SF</td>\n",
       "      <td>235</td>\n",
       "      <td>1337</td>\n",
       "      <td>0</td>\n",
       "      <td>0</td>\n",
       "      <td>0</td>\n",
       "      <td>0</td>\n",
       "      <td>...</td>\n",
       "      <td>29</td>\n",
       "      <td>1.0</td>\n",
       "      <td>0.0</td>\n",
       "      <td>0.03</td>\n",
       "      <td>0.0</td>\n",
       "      <td>0.0</td>\n",
       "      <td>0.0</td>\n",
       "      <td>0.0</td>\n",
       "      <td>0.0</td>\n",
       "      <td>normal.</td>\n",
       "    </tr>\n",
       "    <tr>\n",
       "      <th>3</th>\n",
       "      <td>0</td>\n",
       "      <td>tcp</td>\n",
       "      <td>http</td>\n",
       "      <td>SF</td>\n",
       "      <td>219</td>\n",
       "      <td>1337</td>\n",
       "      <td>0</td>\n",
       "      <td>0</td>\n",
       "      <td>0</td>\n",
       "      <td>0</td>\n",
       "      <td>...</td>\n",
       "      <td>39</td>\n",
       "      <td>1.0</td>\n",
       "      <td>0.0</td>\n",
       "      <td>0.03</td>\n",
       "      <td>0.0</td>\n",
       "      <td>0.0</td>\n",
       "      <td>0.0</td>\n",
       "      <td>0.0</td>\n",
       "      <td>0.0</td>\n",
       "      <td>normal.</td>\n",
       "    </tr>\n",
       "    <tr>\n",
       "      <th>4</th>\n",
       "      <td>0</td>\n",
       "      <td>tcp</td>\n",
       "      <td>http</td>\n",
       "      <td>SF</td>\n",
       "      <td>217</td>\n",
       "      <td>2032</td>\n",
       "      <td>0</td>\n",
       "      <td>0</td>\n",
       "      <td>0</td>\n",
       "      <td>0</td>\n",
       "      <td>...</td>\n",
       "      <td>49</td>\n",
       "      <td>1.0</td>\n",
       "      <td>0.0</td>\n",
       "      <td>0.02</td>\n",
       "      <td>0.0</td>\n",
       "      <td>0.0</td>\n",
       "      <td>0.0</td>\n",
       "      <td>0.0</td>\n",
       "      <td>0.0</td>\n",
       "      <td>normal.</td>\n",
       "    </tr>\n",
       "  </tbody>\n",
       "</table>\n",
       "<p>5 rows × 42 columns</p>\n",
       "</div>"
      ],
      "text/plain": [
       "   duration protocol_type service flag  src_bytes  dst_bytes  land  \\\n",
       "0         0           tcp    http   SF        181       5450     0   \n",
       "1         0           tcp    http   SF        239        486     0   \n",
       "2         0           tcp    http   SF        235       1337     0   \n",
       "3         0           tcp    http   SF        219       1337     0   \n",
       "4         0           tcp    http   SF        217       2032     0   \n",
       "\n",
       "   wrong_fragment  urgent  hot  ...  dst_host_srv_count  \\\n",
       "0               0       0    0  ...                   9   \n",
       "1               0       0    0  ...                  19   \n",
       "2               0       0    0  ...                  29   \n",
       "3               0       0    0  ...                  39   \n",
       "4               0       0    0  ...                  49   \n",
       "\n",
       "   dst_host_same_srv_rate  dst_host_diff_srv_rate  \\\n",
       "0                     1.0                     0.0   \n",
       "1                     1.0                     0.0   \n",
       "2                     1.0                     0.0   \n",
       "3                     1.0                     0.0   \n",
       "4                     1.0                     0.0   \n",
       "\n",
       "   dst_host_same_src_port_rate  dst_host_srv_diff_host_rate  \\\n",
       "0                         0.11                          0.0   \n",
       "1                         0.05                          0.0   \n",
       "2                         0.03                          0.0   \n",
       "3                         0.03                          0.0   \n",
       "4                         0.02                          0.0   \n",
       "\n",
       "   dst_host_serror_rate  dst_host_srv_serror_rate  dst_host_rerror_rate  \\\n",
       "0                   0.0                       0.0                   0.0   \n",
       "1                   0.0                       0.0                   0.0   \n",
       "2                   0.0                       0.0                   0.0   \n",
       "3                   0.0                       0.0                   0.0   \n",
       "4                   0.0                       0.0                   0.0   \n",
       "\n",
       "   dst_host_srv_rerror_rate    label  \n",
       "0                       0.0  normal.  \n",
       "1                       0.0  normal.  \n",
       "2                       0.0  normal.  \n",
       "3                       0.0  normal.  \n",
       "4                       0.0  normal.  \n",
       "\n",
       "[5 rows x 42 columns]"
      ]
     },
     "execution_count": 3,
     "metadata": {},
     "output_type": "execute_result"
    }
   ],
   "source": [
    "traindata.head(5)\n"
   ]
  },
  {
   "cell_type": "code",
   "execution_count": 4,
   "metadata": {},
   "outputs": [
    {
     "name": "stdout",
     "output_type": "stream",
     "text": [
      "Label distribution Training set:\n",
      "smurf.              280790\n",
      "neptune.            107201\n",
      "normal.              97278\n",
      "back.                 2203\n",
      "satan.                1589\n",
      "ipsweep.              1247\n",
      "portsweep.            1040\n",
      "warezclient.          1020\n",
      "teardrop.              979\n",
      "pod.                   264\n",
      "nmap.                  231\n",
      "guess_passwd.           53\n",
      "buffer_overflow.        30\n",
      "land.                   21\n",
      "warezmaster.            20\n",
      "imap.                   12\n",
      "rootkit.                10\n",
      "loadmodule.              9\n",
      "ftp_write.               8\n",
      "multihop.                7\n",
      "phf.                     4\n",
      "perl.                    3\n",
      "spy.                     2\n",
      "Name: label, dtype: int64\n",
      "\n",
      "Label distribution Test set:\n",
      "smurf.              164091\n",
      "normal.              60593\n",
      "neptune.             58001\n",
      "snmpgetattack.        7741\n",
      "mailbomb.             5000\n",
      "guess_passwd.         4367\n",
      "snmpguess.            2406\n",
      "satan.                1633\n",
      "warezmaster.          1602\n",
      "back.                 1098\n",
      "mscan.                1053\n",
      "apache2.               794\n",
      "processtable.          759\n",
      "saint.                 736\n",
      "portsweep.             354\n",
      "ipsweep.               306\n",
      "httptunnel.            158\n",
      "pod.                    87\n",
      "nmap.                   84\n",
      "buffer_overflow.        22\n",
      "multihop.               18\n",
      "named.                  17\n",
      "sendmail.               17\n",
      "ps.                     16\n",
      "rootkit.                13\n",
      "xterm.                  13\n",
      "teardrop.               12\n",
      "xlock.                   9\n",
      "land.                    9\n",
      "xsnoop.                  4\n",
      "ftp_write.               3\n",
      "loadmodule.              2\n",
      "perl.                    2\n",
      "udpstorm.                2\n",
      "worm.                    2\n",
      "phf.                     2\n",
      "sqlattack.               2\n",
      "imap.                    1\n",
      "Name: label, dtype: int64\n"
     ]
    }
   ],
   "source": [
    "print('Label distribution Training set:')\n",
    "print(traindata['label'].value_counts())\n",
    "print()\n",
    "print('Label distribution Test set:')\n",
    "print(testdata['label'].value_counts())\n"
   ]
  },
  {
   "cell_type": "markdown",
   "metadata": {},
   "source": [
    "## Data preprocess:"
   ]
  },
  {
   "cell_type": "markdown",
   "metadata": {},
   "source": [
    "As the feature 'protocol','service','flag' and label are categorical features, we need to change them into binary format.The output will be a sparse matrix where each column corresponds to a possible value."
   ]
  },
  {
   "cell_type": "code",
   "execution_count": 5,
   "metadata": {},
   "outputs": [
    {
     "name": "stdout",
     "output_type": "stream",
     "text": [
      "Training set:\n",
      "Feature 'protocol_type' has 3 categories\n",
      "Feature 'service' has 66 categories\n",
      "Feature 'flag' has 11 categories\n",
      "Feature 'label' has 23 categories\n",
      "\n",
      "Distribution of categories in service:\n",
      "ecr_i      281400\n",
      "private    110893\n",
      "http        64293\n",
      "smtp         9723\n",
      "other        7237\n",
      "Name: service, dtype: int64\n"
     ]
    }
   ],
   "source": [
    "print('Training set:')\n",
    "for feature in traindata.columns:\n",
    "    if traindata[feature].dtypes == 'object' :\n",
    "        unique_cat = len(traindata[feature].unique())\n",
    "        print(\"Feature '{feature}' has {unique_cat} categories\".format(feature=feature, unique_cat=unique_cat))\n",
    "\n",
    "print()\n",
    "print('Distribution of categories in service:')\n",
    "print(traindata['service'].value_counts().sort_values(ascending=False).head())\n"
   ]
  },
  {
   "cell_type": "markdown",
   "metadata": {},
   "source": [
    "## label encoder"
   ]
  },
  {
   "cell_type": "code",
   "execution_count": 6,
   "metadata": {},
   "outputs": [
    {
     "data": {
      "text/html": [
       "<div>\n",
       "<style scoped>\n",
       "    .dataframe tbody tr th:only-of-type {\n",
       "        vertical-align: middle;\n",
       "    }\n",
       "\n",
       "    .dataframe tbody tr th {\n",
       "        vertical-align: top;\n",
       "    }\n",
       "\n",
       "    .dataframe thead th {\n",
       "        text-align: right;\n",
       "    }\n",
       "</style>\n",
       "<table border=\"1\" class=\"dataframe\">\n",
       "  <thead>\n",
       "    <tr style=\"text-align: right;\">\n",
       "      <th></th>\n",
       "      <th>protocol_type</th>\n",
       "      <th>service</th>\n",
       "      <th>flag</th>\n",
       "    </tr>\n",
       "  </thead>\n",
       "  <tbody>\n",
       "    <tr>\n",
       "      <th>0</th>\n",
       "      <td>tcp</td>\n",
       "      <td>http</td>\n",
       "      <td>SF</td>\n",
       "    </tr>\n",
       "    <tr>\n",
       "      <th>1</th>\n",
       "      <td>tcp</td>\n",
       "      <td>http</td>\n",
       "      <td>SF</td>\n",
       "    </tr>\n",
       "    <tr>\n",
       "      <th>2</th>\n",
       "      <td>tcp</td>\n",
       "      <td>http</td>\n",
       "      <td>SF</td>\n",
       "    </tr>\n",
       "    <tr>\n",
       "      <th>3</th>\n",
       "      <td>tcp</td>\n",
       "      <td>http</td>\n",
       "      <td>SF</td>\n",
       "    </tr>\n",
       "    <tr>\n",
       "      <th>4</th>\n",
       "      <td>tcp</td>\n",
       "      <td>http</td>\n",
       "      <td>SF</td>\n",
       "    </tr>\n",
       "  </tbody>\n",
       "</table>\n",
       "</div>"
      ],
      "text/plain": [
       "  protocol_type service flag\n",
       "0           tcp    http   SF\n",
       "1           tcp    http   SF\n",
       "2           tcp    http   SF\n",
       "3           tcp    http   SF\n",
       "4           tcp    http   SF"
      ]
     },
     "execution_count": 6,
     "metadata": {},
     "output_type": "execute_result"
    }
   ],
   "source": [
    "from sklearn.preprocessing import LabelEncoder,OneHotEncoder\n",
    "categorical_feature=['protocol_type', 'service', 'flag']\n",
    "\n",
    "train_categorical_values = traindata[categorical_feature]\n",
    "test_categorical_values = testdata[categorical_feature]\n",
    "\n",
    "train_categorical_values.head()\n",
    "\n"
   ]
  },
  {
   "cell_type": "markdown",
   "metadata": {},
   "source": [
    "rename the column"
   ]
  },
  {
   "cell_type": "code",
   "execution_count": 7,
   "metadata": {},
   "outputs": [
    {
     "name": "stdout",
     "output_type": "stream",
     "text": [
      "['Protocol_type_icmp', 'Protocol_type_tcp', 'Protocol_type_udp']\n",
      "['service_IRC', 'service_X11', 'service_Z39_50', 'service_auth', 'service_bgp', 'service_courier', 'service_csnet_ns', 'service_ctf', 'service_daytime', 'service_discard', 'service_domain', 'service_domain_u', 'service_echo', 'service_eco_i', 'service_ecr_i', 'service_efs', 'service_exec', 'service_finger', 'service_ftp', 'service_ftp_data', 'service_gopher', 'service_hostnames', 'service_http', 'service_http_443', 'service_imap4', 'service_iso_tsap', 'service_klogin', 'service_kshell', 'service_ldap', 'service_link', 'service_login', 'service_mtp', 'service_name', 'service_netbios_dgm', 'service_netbios_ns', 'service_netbios_ssn', 'service_netstat', 'service_nnsp', 'service_nntp', 'service_ntp_u', 'service_other', 'service_pm_dump', 'service_pop_2', 'service_pop_3', 'service_printer', 'service_private', 'service_red_i', 'service_remote_job', 'service_rje', 'service_shell', 'service_smtp', 'service_sql_net', 'service_ssh', 'service_sunrpc', 'service_supdup', 'service_systat', 'service_telnet', 'service_tftp_u', 'service_tim_i', 'service_time', 'service_urh_i', 'service_urp_i', 'service_uucp', 'service_uucp_path', 'service_vmnet', 'service_whois']\n",
      "['flag_OTH', 'flag_REJ', 'flag_RSTO', 'flag_RSTOS0', 'flag_RSTR', 'flag_S0', 'flag_S1', 'flag_S2', 'flag_S3', 'flag_SF', 'flag_SH']\n"
     ]
    }
   ],
   "source": [
    "# protocol type\n",
    "unique_protocol=sorted(traindata.protocol_type.unique())\n",
    "string1 = 'Protocol_type_'\n",
    "unique_protocol2=[string1 + x for x in unique_protocol]\n",
    "print(unique_protocol2)\n",
    "\n",
    "# service\n",
    "unique_service=sorted(traindata.service.unique())\n",
    "string2 = 'service_'\n",
    "unique_service2=[string2 + x for x in unique_service]\n",
    "print(unique_service2)\n",
    "\n",
    "\n",
    "# flag\n",
    "unique_flag=sorted(traindata.flag.unique())\n",
    "string3 = 'flag_'\n",
    "unique_flag2=[string3 + x for x in unique_flag]\n",
    "print(unique_flag2)\n",
    "\n",
    "\n",
    "# put together\n",
    "dumcols=unique_protocol2 + unique_service2 + unique_flag2\n",
    "\n",
    "\n",
    "#do it for test set\n",
    "unique_service_test=sorted(testdata.service.unique())\n",
    "unique_service2_test=[string2 + x for x in unique_service_test]\n",
    "testdumcols=unique_protocol2 + unique_service2_test + unique_flag2"
   ]
  },
  {
   "cell_type": "code",
   "execution_count": 8,
   "metadata": {},
   "outputs": [
    {
     "name": "stdout",
     "output_type": "stream",
     "text": [
      "  protocol_type service flag\n",
      "0           tcp    http   SF\n",
      "1           tcp    http   SF\n",
      "2           tcp    http   SF\n",
      "3           tcp    http   SF\n",
      "4           tcp    http   SF\n",
      "--------------------\n",
      "   protocol_type  service  flag\n",
      "0              1       22     9\n",
      "1              1       22     9\n",
      "2              1       22     9\n",
      "3              1       22     9\n",
      "4              1       22     9\n"
     ]
    }
   ],
   "source": [
    "train_categorical_values_enc=train_categorical_values.apply(LabelEncoder().fit_transform)\n",
    "\n",
    "print(train_categorical_values.head())\n",
    "print('--------------------')\n",
    "print(train_categorical_values_enc.head())\n",
    "\n",
    "# test set\n",
    "test_categorical_values_enc=test_categorical_values.apply(LabelEncoder().fit_transform)\n"
   ]
  },
  {
   "cell_type": "markdown",
   "metadata": {},
   "source": [
    "One-Hot-Encoding"
   ]
  },
  {
   "cell_type": "code",
   "execution_count": 9,
   "metadata": {},
   "outputs": [
    {
     "data": {
      "text/html": [
       "<div>\n",
       "<style scoped>\n",
       "    .dataframe tbody tr th:only-of-type {\n",
       "        vertical-align: middle;\n",
       "    }\n",
       "\n",
       "    .dataframe tbody tr th {\n",
       "        vertical-align: top;\n",
       "    }\n",
       "\n",
       "    .dataframe thead th {\n",
       "        text-align: right;\n",
       "    }\n",
       "</style>\n",
       "<table border=\"1\" class=\"dataframe\">\n",
       "  <thead>\n",
       "    <tr style=\"text-align: right;\">\n",
       "      <th></th>\n",
       "      <th>Protocol_type_icmp</th>\n",
       "      <th>Protocol_type_tcp</th>\n",
       "      <th>Protocol_type_udp</th>\n",
       "      <th>service_IRC</th>\n",
       "      <th>service_X11</th>\n",
       "      <th>service_Z39_50</th>\n",
       "      <th>service_auth</th>\n",
       "      <th>service_bgp</th>\n",
       "      <th>service_courier</th>\n",
       "      <th>service_csnet_ns</th>\n",
       "      <th>...</th>\n",
       "      <th>flag_REJ</th>\n",
       "      <th>flag_RSTO</th>\n",
       "      <th>flag_RSTOS0</th>\n",
       "      <th>flag_RSTR</th>\n",
       "      <th>flag_S0</th>\n",
       "      <th>flag_S1</th>\n",
       "      <th>flag_S2</th>\n",
       "      <th>flag_S3</th>\n",
       "      <th>flag_SF</th>\n",
       "      <th>flag_SH</th>\n",
       "    </tr>\n",
       "  </thead>\n",
       "  <tbody>\n",
       "    <tr>\n",
       "      <th>0</th>\n",
       "      <td>0.0</td>\n",
       "      <td>1.0</td>\n",
       "      <td>0.0</td>\n",
       "      <td>0.0</td>\n",
       "      <td>0.0</td>\n",
       "      <td>0.0</td>\n",
       "      <td>0.0</td>\n",
       "      <td>0.0</td>\n",
       "      <td>0.0</td>\n",
       "      <td>0.0</td>\n",
       "      <td>...</td>\n",
       "      <td>0.0</td>\n",
       "      <td>0.0</td>\n",
       "      <td>0.0</td>\n",
       "      <td>0.0</td>\n",
       "      <td>0.0</td>\n",
       "      <td>0.0</td>\n",
       "      <td>0.0</td>\n",
       "      <td>0.0</td>\n",
       "      <td>1.0</td>\n",
       "      <td>0.0</td>\n",
       "    </tr>\n",
       "    <tr>\n",
       "      <th>1</th>\n",
       "      <td>0.0</td>\n",
       "      <td>1.0</td>\n",
       "      <td>0.0</td>\n",
       "      <td>0.0</td>\n",
       "      <td>0.0</td>\n",
       "      <td>0.0</td>\n",
       "      <td>0.0</td>\n",
       "      <td>0.0</td>\n",
       "      <td>0.0</td>\n",
       "      <td>0.0</td>\n",
       "      <td>...</td>\n",
       "      <td>0.0</td>\n",
       "      <td>0.0</td>\n",
       "      <td>0.0</td>\n",
       "      <td>0.0</td>\n",
       "      <td>0.0</td>\n",
       "      <td>0.0</td>\n",
       "      <td>0.0</td>\n",
       "      <td>0.0</td>\n",
       "      <td>1.0</td>\n",
       "      <td>0.0</td>\n",
       "    </tr>\n",
       "    <tr>\n",
       "      <th>2</th>\n",
       "      <td>0.0</td>\n",
       "      <td>1.0</td>\n",
       "      <td>0.0</td>\n",
       "      <td>0.0</td>\n",
       "      <td>0.0</td>\n",
       "      <td>0.0</td>\n",
       "      <td>0.0</td>\n",
       "      <td>0.0</td>\n",
       "      <td>0.0</td>\n",
       "      <td>0.0</td>\n",
       "      <td>...</td>\n",
       "      <td>0.0</td>\n",
       "      <td>0.0</td>\n",
       "      <td>0.0</td>\n",
       "      <td>0.0</td>\n",
       "      <td>0.0</td>\n",
       "      <td>0.0</td>\n",
       "      <td>0.0</td>\n",
       "      <td>0.0</td>\n",
       "      <td>1.0</td>\n",
       "      <td>0.0</td>\n",
       "    </tr>\n",
       "    <tr>\n",
       "      <th>3</th>\n",
       "      <td>0.0</td>\n",
       "      <td>1.0</td>\n",
       "      <td>0.0</td>\n",
       "      <td>0.0</td>\n",
       "      <td>0.0</td>\n",
       "      <td>0.0</td>\n",
       "      <td>0.0</td>\n",
       "      <td>0.0</td>\n",
       "      <td>0.0</td>\n",
       "      <td>0.0</td>\n",
       "      <td>...</td>\n",
       "      <td>0.0</td>\n",
       "      <td>0.0</td>\n",
       "      <td>0.0</td>\n",
       "      <td>0.0</td>\n",
       "      <td>0.0</td>\n",
       "      <td>0.0</td>\n",
       "      <td>0.0</td>\n",
       "      <td>0.0</td>\n",
       "      <td>1.0</td>\n",
       "      <td>0.0</td>\n",
       "    </tr>\n",
       "    <tr>\n",
       "      <th>4</th>\n",
       "      <td>0.0</td>\n",
       "      <td>1.0</td>\n",
       "      <td>0.0</td>\n",
       "      <td>0.0</td>\n",
       "      <td>0.0</td>\n",
       "      <td>0.0</td>\n",
       "      <td>0.0</td>\n",
       "      <td>0.0</td>\n",
       "      <td>0.0</td>\n",
       "      <td>0.0</td>\n",
       "      <td>...</td>\n",
       "      <td>0.0</td>\n",
       "      <td>0.0</td>\n",
       "      <td>0.0</td>\n",
       "      <td>0.0</td>\n",
       "      <td>0.0</td>\n",
       "      <td>0.0</td>\n",
       "      <td>0.0</td>\n",
       "      <td>0.0</td>\n",
       "      <td>1.0</td>\n",
       "      <td>0.0</td>\n",
       "    </tr>\n",
       "  </tbody>\n",
       "</table>\n",
       "<p>5 rows × 80 columns</p>\n",
       "</div>"
      ],
      "text/plain": [
       "   Protocol_type_icmp  Protocol_type_tcp  Protocol_type_udp  service_IRC  \\\n",
       "0                 0.0                1.0                0.0          0.0   \n",
       "1                 0.0                1.0                0.0          0.0   \n",
       "2                 0.0                1.0                0.0          0.0   \n",
       "3                 0.0                1.0                0.0          0.0   \n",
       "4                 0.0                1.0                0.0          0.0   \n",
       "\n",
       "   service_X11  service_Z39_50  service_auth  service_bgp  service_courier  \\\n",
       "0          0.0             0.0           0.0          0.0              0.0   \n",
       "1          0.0             0.0           0.0          0.0              0.0   \n",
       "2          0.0             0.0           0.0          0.0              0.0   \n",
       "3          0.0             0.0           0.0          0.0              0.0   \n",
       "4          0.0             0.0           0.0          0.0              0.0   \n",
       "\n",
       "   service_csnet_ns  ...  flag_REJ  flag_RSTO  flag_RSTOS0  flag_RSTR  \\\n",
       "0               0.0  ...       0.0        0.0          0.0        0.0   \n",
       "1               0.0  ...       0.0        0.0          0.0        0.0   \n",
       "2               0.0  ...       0.0        0.0          0.0        0.0   \n",
       "3               0.0  ...       0.0        0.0          0.0        0.0   \n",
       "4               0.0  ...       0.0        0.0          0.0        0.0   \n",
       "\n",
       "   flag_S0  flag_S1  flag_S2  flag_S3  flag_SF  flag_SH  \n",
       "0      0.0      0.0      0.0      0.0      1.0      0.0  \n",
       "1      0.0      0.0      0.0      0.0      1.0      0.0  \n",
       "2      0.0      0.0      0.0      0.0      1.0      0.0  \n",
       "3      0.0      0.0      0.0      0.0      1.0      0.0  \n",
       "4      0.0      0.0      0.0      0.0      1.0      0.0  \n",
       "\n",
       "[5 rows x 80 columns]"
      ]
     },
     "execution_count": 9,
     "metadata": {},
     "output_type": "execute_result"
    }
   ],
   "source": [
    "enc = OneHotEncoder(categories='auto')\n",
    "train_categorical_values_encenc = enc.fit_transform(train_categorical_values_enc)\n",
    "train_cat_data = pd.DataFrame(train_categorical_values_encenc.toarray(),columns=dumcols)\n",
    "\n",
    "\n",
    "# test set\n",
    "test_categorical_values_encenc = enc.fit_transform(test_categorical_values_enc)\n",
    "test_cat_data = pd.DataFrame(test_categorical_values_encenc.toarray(),columns=testdumcols)\n",
    "\n",
    "train_cat_data.head()\n"
   ]
  },
  {
   "cell_type": "markdown",
   "metadata": {},
   "source": [
    "difference in 'service' between train and test"
   ]
  },
  {
   "cell_type": "code",
   "execution_count": 10,
   "metadata": {},
   "outputs": [
    {
     "name": "stdout",
     "output_type": "stream",
     "text": [
      "['service_red_i', 'service_urh_i']\n",
      "['icmp']\n"
     ]
    }
   ],
   "source": [
    "trainservice=traindata['service'].tolist()\n",
    "testservice= testdata['service'].tolist()\n",
    "difference=list(set(trainservice) - set(testservice))\n",
    "difference1=list(set(testservice) - set(trainservice))\n",
    "string = 'service_'\n",
    "difference=[string + x for x in difference]\n",
    "print(difference)\n",
    "print(difference1)\n",
    "\n"
   ]
  },
  {
   "cell_type": "code",
   "execution_count": 11,
   "metadata": {},
   "outputs": [
    {
     "name": "stdout",
     "output_type": "stream",
     "text": [
      "(494021, 81)\n",
      "(311029, 81)\n"
     ]
    }
   ],
   "source": [
    "for col in difference:\n",
    "    test_cat_data[col] = 0\n",
    "for col in difference1:\n",
    "    train_cat_data[col] = 0\n",
    "\n",
    "print(train_cat_data.shape)    \n",
    "print(test_cat_data.shape)\n"
   ]
  },
  {
   "cell_type": "markdown",
   "metadata": {},
   "source": [
    "combine all features"
   ]
  },
  {
   "cell_type": "code",
   "execution_count": 12,
   "metadata": {},
   "outputs": [
    {
     "name": "stdout",
     "output_type": "stream",
     "text": [
      "(494021, 120)\n",
      "(311029, 120)\n"
     ]
    }
   ],
   "source": [
    "#traindata\n",
    "newtrain=traindata.join(train_cat_data)\n",
    "newtrain.drop('flag', axis=1, inplace=True)\n",
    "newtrain.drop('protocol_type', axis=1, inplace=True)\n",
    "newtrain.drop('service', axis=1, inplace=True)\n",
    "\n",
    "# test data\n",
    "newtest=testdata.join(test_cat_data)\n",
    "newtest.drop('flag', axis=1, inplace=True)\n",
    "newtest.drop('protocol_type', axis=1, inplace=True)\n",
    "newtest.drop('service', axis=1, inplace=True)\n",
    "\n",
    "print(newtrain.shape)\n",
    "print(newtest.shape)\n"
   ]
  },
  {
   "cell_type": "code",
   "execution_count": 30,
   "metadata": {},
   "outputs": [],
   "source": [
    "labeltrain=newtrain['label']\n",
    "\n",
    "labeltest=newtest['label']\n",
    "labeltest.unique()\n",
    "# change the label column\n",
    "newlabel_train=labeltrain.replace({ 'normal.' : 0, 'neptune.' : 1 ,'back.': 1, 'land.': 1, 'pod.': 1, 'smurf.': 1, 'teardrop.': 1,'mailbomb.': 1, 'apache2.': 1, 'processtable.': 1, 'udpstorm.': 1, 'worm.': 1,\n",
    "                           'ipsweep.' : 1,'nmap.' : 1,'portsweep.' : 1,'satan.' : 1,'mscan.' : 1,'saint.' : 1,\n",
    "                            'ftp_write.': 1,'guess_passwd.': 1,'imap.': 1,'multihop.': 1,'phf.': 1,'spy.': 1,'warezclient.': 1,'warezmaster.': 1,'sendmail.': 1,'named.': 1,'snmpgetattack.': 1,'snmpguess.': 1,'xlock.': 1,'xsnoop.': 1,'httptunnel.': 1,\n",
    "                           'buffer_overflow.': 1,'loadmodule.': 1,'perl.': 1,'rootkit.': 1,'ps.': 1,'sqlattack.': 1,'xterm.': 1 })\n",
    "newlabel_test=labeltest.replace({ 'normal.' : 0, 'neptune.' : 1 ,'back.': 1, 'land.': 1, 'pod.': 1, 'smurf.': 1, 'teardrop.': 1,'mailbomb.': 1, 'apache2.': 1, 'processtable.': 1, 'udpstorm.': 1, 'worm.': 1,\n",
    "                           'ipsweep.' : 1,'nmap.' : 1,'portsweep.' : 1,'satan.' : 1,'mscan.' : 1,'saint.' : 1\n",
    "                           ,'ftp_write.': 1,'guess_passwd.': 1,'imap.': 1,'multihop.': 1,'phf.': 1,'spy.': 1,'warezclient': 1,'warezmaster.': 1,'sendmail.': 1,'named.': 1,'snmpgetattack.': 1,'snmpguess.': 1,'xlock.': 1,'xsnoop.': 1,'httptunnel.': 1,\n",
    "                           'buffer_overflow.': 1,'loadmodule.': 1,'perl.': 1,'rootkit.': 1,'ps.': 1,'sqlattack.': 1,'xterm.': 1})\n",
    "\n",
    "# put the new label column back\n",
    "newtrain['label'] = newlabel_train\n",
    "newtest['label'] = newlabel_test\n"
   ]
  },
  {
   "cell_type": "code",
   "execution_count": null,
   "metadata": {},
   "outputs": [],
   "source": [
    "# class?????????????\n",
    "newlabeltrain=labeltrain.replace({ 'normal' : 0, 'ipsweep.':1, 'portsweep.':1,'nmap.':1,'satan.':1,'buffer_overflow.':2,'loadmodule.':2,'perl.':2,'rootkit.':2,'back.':3,'land.':3,'neptune.':3, 'pod.':3,'smurf.':3,\n",
    "                            'teardrop.':3, 'ftp_write.':4,'guess_passwd.':4,'imap.':4,'multihop.':4, 'phf.':4,'spy.':4,'warezclient.':4,'warezmaster.':4 })\n",
    "newlabeltest=labeltest.replace({ 'normal' : 0, 'ipsweep.':1, 'portsweep.':1,'nmap.':1,'satan.':1,'buffer_overflow.':2,'loadmodule.':2,'perl.':2,'rootkit.':2,'back.':3,'land.':3,'neptune.':3, 'pod.':3,'smurf.':3,\n",
    "                            'teardrop.':3, 'ftp_write.':4,'guess_passwd.':4,'imap.':4,'multihop.':4, 'phf.':4,'spy.':4,'warezclient.':4,'warezmaster.':4,'snmpgetattack.':5,'named.':5 })\n"
   ]
  },
  {
   "cell_type": "code",
   "execution_count": 31,
   "metadata": {},
   "outputs": [],
   "source": [
    "#write csv for convenience\n",
    "newtrain.to_csv(\"kdd_train.csv\")"
   ]
  },
  {
   "cell_type": "code",
   "execution_count": 32,
   "metadata": {},
   "outputs": [
    {
     "data": {
      "text/html": [
       "<div>\n",
       "<style scoped>\n",
       "    .dataframe tbody tr th:only-of-type {\n",
       "        vertical-align: middle;\n",
       "    }\n",
       "\n",
       "    .dataframe tbody tr th {\n",
       "        vertical-align: top;\n",
       "    }\n",
       "\n",
       "    .dataframe thead th {\n",
       "        text-align: right;\n",
       "    }\n",
       "</style>\n",
       "<table border=\"1\" class=\"dataframe\">\n",
       "  <thead>\n",
       "    <tr style=\"text-align: right;\">\n",
       "      <th></th>\n",
       "      <th>duration</th>\n",
       "      <th>src_bytes</th>\n",
       "      <th>dst_bytes</th>\n",
       "      <th>land</th>\n",
       "      <th>wrong_fragment</th>\n",
       "      <th>urgent</th>\n",
       "      <th>hot</th>\n",
       "      <th>num_failed_logins</th>\n",
       "      <th>logged_in</th>\n",
       "      <th>num_compromised</th>\n",
       "      <th>...</th>\n",
       "      <th>flag_RSTO</th>\n",
       "      <th>flag_RSTOS0</th>\n",
       "      <th>flag_RSTR</th>\n",
       "      <th>flag_S0</th>\n",
       "      <th>flag_S1</th>\n",
       "      <th>flag_S2</th>\n",
       "      <th>flag_S3</th>\n",
       "      <th>flag_SF</th>\n",
       "      <th>flag_SH</th>\n",
       "      <th>icmp</th>\n",
       "    </tr>\n",
       "  </thead>\n",
       "  <tbody>\n",
       "    <tr>\n",
       "      <th>0</th>\n",
       "      <td>0</td>\n",
       "      <td>181</td>\n",
       "      <td>5450</td>\n",
       "      <td>0</td>\n",
       "      <td>0</td>\n",
       "      <td>0</td>\n",
       "      <td>0</td>\n",
       "      <td>0</td>\n",
       "      <td>1</td>\n",
       "      <td>0</td>\n",
       "      <td>...</td>\n",
       "      <td>0.0</td>\n",
       "      <td>0.0</td>\n",
       "      <td>0.0</td>\n",
       "      <td>0.0</td>\n",
       "      <td>0.0</td>\n",
       "      <td>0.0</td>\n",
       "      <td>0.0</td>\n",
       "      <td>1.0</td>\n",
       "      <td>0.0</td>\n",
       "      <td>0</td>\n",
       "    </tr>\n",
       "    <tr>\n",
       "      <th>1</th>\n",
       "      <td>0</td>\n",
       "      <td>239</td>\n",
       "      <td>486</td>\n",
       "      <td>0</td>\n",
       "      <td>0</td>\n",
       "      <td>0</td>\n",
       "      <td>0</td>\n",
       "      <td>0</td>\n",
       "      <td>1</td>\n",
       "      <td>0</td>\n",
       "      <td>...</td>\n",
       "      <td>0.0</td>\n",
       "      <td>0.0</td>\n",
       "      <td>0.0</td>\n",
       "      <td>0.0</td>\n",
       "      <td>0.0</td>\n",
       "      <td>0.0</td>\n",
       "      <td>0.0</td>\n",
       "      <td>1.0</td>\n",
       "      <td>0.0</td>\n",
       "      <td>0</td>\n",
       "    </tr>\n",
       "    <tr>\n",
       "      <th>2</th>\n",
       "      <td>0</td>\n",
       "      <td>235</td>\n",
       "      <td>1337</td>\n",
       "      <td>0</td>\n",
       "      <td>0</td>\n",
       "      <td>0</td>\n",
       "      <td>0</td>\n",
       "      <td>0</td>\n",
       "      <td>1</td>\n",
       "      <td>0</td>\n",
       "      <td>...</td>\n",
       "      <td>0.0</td>\n",
       "      <td>0.0</td>\n",
       "      <td>0.0</td>\n",
       "      <td>0.0</td>\n",
       "      <td>0.0</td>\n",
       "      <td>0.0</td>\n",
       "      <td>0.0</td>\n",
       "      <td>1.0</td>\n",
       "      <td>0.0</td>\n",
       "      <td>0</td>\n",
       "    </tr>\n",
       "    <tr>\n",
       "      <th>3</th>\n",
       "      <td>0</td>\n",
       "      <td>219</td>\n",
       "      <td>1337</td>\n",
       "      <td>0</td>\n",
       "      <td>0</td>\n",
       "      <td>0</td>\n",
       "      <td>0</td>\n",
       "      <td>0</td>\n",
       "      <td>1</td>\n",
       "      <td>0</td>\n",
       "      <td>...</td>\n",
       "      <td>0.0</td>\n",
       "      <td>0.0</td>\n",
       "      <td>0.0</td>\n",
       "      <td>0.0</td>\n",
       "      <td>0.0</td>\n",
       "      <td>0.0</td>\n",
       "      <td>0.0</td>\n",
       "      <td>1.0</td>\n",
       "      <td>0.0</td>\n",
       "      <td>0</td>\n",
       "    </tr>\n",
       "    <tr>\n",
       "      <th>4</th>\n",
       "      <td>0</td>\n",
       "      <td>217</td>\n",
       "      <td>2032</td>\n",
       "      <td>0</td>\n",
       "      <td>0</td>\n",
       "      <td>0</td>\n",
       "      <td>0</td>\n",
       "      <td>0</td>\n",
       "      <td>1</td>\n",
       "      <td>0</td>\n",
       "      <td>...</td>\n",
       "      <td>0.0</td>\n",
       "      <td>0.0</td>\n",
       "      <td>0.0</td>\n",
       "      <td>0.0</td>\n",
       "      <td>0.0</td>\n",
       "      <td>0.0</td>\n",
       "      <td>0.0</td>\n",
       "      <td>1.0</td>\n",
       "      <td>0.0</td>\n",
       "      <td>0</td>\n",
       "    </tr>\n",
       "  </tbody>\n",
       "</table>\n",
       "<p>5 rows × 120 columns</p>\n",
       "</div>"
      ],
      "text/plain": [
       "   duration  src_bytes  dst_bytes  land  wrong_fragment  urgent  hot  \\\n",
       "0         0        181       5450     0               0       0    0   \n",
       "1         0        239        486     0               0       0    0   \n",
       "2         0        235       1337     0               0       0    0   \n",
       "3         0        219       1337     0               0       0    0   \n",
       "4         0        217       2032     0               0       0    0   \n",
       "\n",
       "   num_failed_logins  logged_in  num_compromised  ...  flag_RSTO  flag_RSTOS0  \\\n",
       "0                  0          1                0  ...        0.0          0.0   \n",
       "1                  0          1                0  ...        0.0          0.0   \n",
       "2                  0          1                0  ...        0.0          0.0   \n",
       "3                  0          1                0  ...        0.0          0.0   \n",
       "4                  0          1                0  ...        0.0          0.0   \n",
       "\n",
       "   flag_RSTR  flag_S0  flag_S1  flag_S2  flag_S3  flag_SF  flag_SH  icmp  \n",
       "0        0.0      0.0      0.0      0.0      0.0      1.0      0.0     0  \n",
       "1        0.0      0.0      0.0      0.0      0.0      1.0      0.0     0  \n",
       "2        0.0      0.0      0.0      0.0      0.0      1.0      0.0     0  \n",
       "3        0.0      0.0      0.0      0.0      0.0      1.0      0.0     0  \n",
       "4        0.0      0.0      0.0      0.0      0.0      1.0      0.0     0  \n",
       "\n",
       "[5 rows x 120 columns]"
      ]
     },
     "execution_count": 32,
     "metadata": {},
     "output_type": "execute_result"
    }
   ],
   "source": [
    "newtrain.head(5)"
   ]
  },
  {
   "cell_type": "code",
   "execution_count": 33,
   "metadata": {},
   "outputs": [],
   "source": [
    "newtest.to_csv(\"kdd_test.csv\")"
   ]
  },
  {
   "cell_type": "markdown",
   "metadata": {},
   "source": [
    "feature scaling"
   ]
  },
  {
   "cell_type": "code",
   "execution_count": 34,
   "metadata": {},
   "outputs": [
    {
     "name": "stderr",
     "output_type": "stream",
     "text": [
      "C:\\Users\\haile\\AppData\\Local\\Temp\\ipykernel_20460\\3247836689.py:1: FutureWarning: In a future version of pandas all arguments of DataFrame.drop except for the argument 'labels' will be keyword-only.\n",
      "  X_train = newtrain.drop('label',1)\n",
      "C:\\Users\\haile\\AppData\\Local\\Temp\\ipykernel_20460\\3247836689.py:5: FutureWarning: In a future version of pandas all arguments of DataFrame.drop except for the argument 'labels' will be keyword-only.\n",
      "  X_test = newtest.drop('label',1)\n"
     ]
    }
   ],
   "source": [
    "X_train = newtrain.drop('label',1)\n",
    "Y_train = newtrain.label\n",
    "\n",
    "# test set\n",
    "X_test = newtest.drop('label',1)\n",
    "Y_test = newtest.label"
   ]
  },
  {
   "cell_type": "code",
   "execution_count": 35,
   "metadata": {},
   "outputs": [],
   "source": [
    "from sklearn.preprocessing import MinMaxScaler\n",
    "mm = MinMaxScaler()\n",
    "X_train = mm.fit_transform(X_train)\n",
    "X_test = mm.fit_transform(X_test)"
   ]
  },
  {
   "cell_type": "code",
   "execution_count": 36,
   "metadata": {},
   "outputs": [
    {
     "name": "stdout",
     "output_type": "stream",
     "text": [
      "(494021, 119)\n",
      "(494021,)\n"
     ]
    }
   ],
   "source": [
    "print(X_train.shape)\n",
    "print(Y_train.shape)\n"
   ]
  },
  {
   "cell_type": "markdown",
   "metadata": {},
   "source": [
    "## split data\n"
   ]
  },
  {
   "cell_type": "code",
   "execution_count": 37,
   "metadata": {},
   "outputs": [],
   "source": [
    "#split train and test data 40%\n",
    "from sklearn.model_selection import train_test_split\n",
    "train_data, valid_data, train_target, valid_target = train_test_split(X_train, Y_train, test_size=0.4, random_state=42)"
   ]
  },
  {
   "cell_type": "markdown",
   "metadata": {},
   "source": [
    "## Logistic Regression"
   ]
  },
  {
   "cell_type": "code",
   "execution_count": 51,
   "metadata": {},
   "outputs": [
    {
     "name": "stdout",
     "output_type": "stream",
     "text": [
      "train_time:2.430s\n",
      "\n",
      "test_time:0.093s\n",
      "\n"
     ]
    },
    {
     "name": "stderr",
     "output_type": "stream",
     "text": [
      "c:\\Users\\haile\\anaconda3\\lib\\site-packages\\sklearn\\linear_model\\_logistic.py:814: ConvergenceWarning: lbfgs failed to converge (status=1):\n",
      "STOP: TOTAL NO. of ITERATIONS REACHED LIMIT.\n",
      "\n",
      "Increase the number of iterations (max_iter) or scale the data as shown in:\n",
      "    https://scikit-learn.org/stable/modules/preprocessing.html\n",
      "Please also refer to the documentation for alternative solver options:\n",
      "    https://scikit-learn.org/stable/modules/linear_model.html#logistic-regression\n",
      "  n_iter_i = _check_optimize_result(\n"
     ]
    }
   ],
   "source": [
    "from sklearn.linear_model import LogisticRegression\n",
    "classfier = LogisticRegression()\n",
    "train0 = time.time()\n",
    "classfier.fit(train_data, train_target)\n",
    "train1 = time.time() - train0\n",
    "print(\"train_time:%.3fs\\n\" %train1)\n",
    "\n",
    "\n",
    "test0 = time.time()\n",
    "y_pred_lr = classfier.predict(X_test)\n",
    "test1 = time.time() - test0\n",
    "print(\"test_time:%.3fs\\n\" %test1)"
   ]
  },
  {
   "cell_type": "code",
   "execution_count": 62,
   "metadata": {},
   "outputs": [],
   "source": [
    "y_test_lrprob = classfier.predict_proba(X_test)[:,1]"
   ]
  },
  {
   "cell_type": "code",
   "execution_count": 54,
   "metadata": {},
   "outputs": [
    {
     "name": "stdout",
     "output_type": "stream",
     "text": [
      "              precision    recall  f1-score   support\n",
      "\n",
      "           0       0.70      0.99      0.82     60593\n",
      "           1       1.00      0.90      0.95    250436\n",
      "\n",
      "    accuracy                           0.92    311029\n",
      "   macro avg       0.85      0.94      0.88    311029\n",
      "weighted avg       0.94      0.92      0.92    311029\n",
      "\n",
      "AUC_lr:0.943\n"
     ]
    }
   ],
   "source": [
    "from sklearn import metrics\n",
    "print(metrics.classification_report(Y_test,y_pred_lr))\n",
    "auc_lr = metrics.roc_auc_score(Y_test, y_pred_lr)\n",
    "print('AUC_lr:%.3f'%auc_lr)"
   ]
  },
  {
   "cell_type": "markdown",
   "metadata": {},
   "source": [
    "## KNN"
   ]
  },
  {
   "cell_type": "code",
   "execution_count": 55,
   "metadata": {},
   "outputs": [
    {
     "name": "stdout",
     "output_type": "stream",
     "text": [
      "train_time:0.058s\n",
      "\n"
     ]
    },
    {
     "name": "stderr",
     "output_type": "stream",
     "text": [
      "c:\\Users\\haile\\anaconda3\\lib\\site-packages\\sklearn\\neighbors\\_classification.py:228: FutureWarning: Unlike other reduction functions (e.g. `skew`, `kurtosis`), the default behavior of `mode` typically preserves the axis it acts along. In SciPy 1.11.0, this behavior will change: the default value of `keepdims` will become False, the `axis` over which the statistic is taken will be eliminated, and the value None will no longer be accepted. Set `keepdims` to True or False to avoid this warning.\n",
      "  mode, _ = stats.mode(_y[neigh_ind, k], axis=1)\n"
     ]
    },
    {
     "name": "stdout",
     "output_type": "stream",
     "text": [
      "test_time:1302.863s\n",
      "\n"
     ]
    }
   ],
   "source": [
    "from sklearn.neighbors import KNeighborsClassifier\n",
    "import time\n",
    "clf = KNeighborsClassifier(n_neighbors=3)\n",
    "train0=time.time()\n",
    "clf.fit(train_data, train_target)\n",
    "train1=time.time()-train0\n",
    "print(\"train_time:%.3fs\\n\" %train1)\n",
    "\n",
    "test0=time.time()\n",
    "y_pred_KNN=clf.predict(X_test)\n",
    "test1=time.time()-test0\n",
    "print(\"test_time:%.3fs\\n\" %test1)"
   ]
  },
  {
   "cell_type": "code",
   "execution_count": 64,
   "metadata": {},
   "outputs": [
    {
     "name": "stdout",
     "output_type": "stream",
     "text": [
      "              precision    recall  f1-score   support\n",
      "\n",
      "           0       0.73      1.00      0.84     60593\n",
      "           1       1.00      0.91      0.95    250436\n",
      "\n",
      "    accuracy                           0.93    311029\n",
      "   macro avg       0.86      0.95      0.90    311029\n",
      "weighted avg       0.95      0.93      0.93    311029\n",
      "\n",
      "AUC_knn:0.954\n"
     ]
    }
   ],
   "source": [
    "from sklearn import metrics\n",
    "print(metrics.classification_report(Y_test,y_pred_KNN))\n",
    "auc_knn = metrics.roc_auc_score(Y_test, y_pred_KNN)\n",
    "print('AUC_knn:%.3f'%auc_knn)"
   ]
  },
  {
   "cell_type": "code",
   "execution_count": 84,
   "metadata": {},
   "outputs": [],
   "source": [
    "y_test_knnprob = clf.predict_proba(X_test)[:,1]"
   ]
  },
  {
   "cell_type": "markdown",
   "metadata": {},
   "source": [
    "## decision tree\n"
   ]
  },
  {
   "cell_type": "code",
   "execution_count": 38,
   "metadata": {},
   "outputs": [],
   "source": [
    "import time\n",
    "from sklearn.tree import DecisionTreeClassifier \n"
   ]
  },
  {
   "cell_type": "code",
   "execution_count": 67,
   "metadata": {},
   "outputs": [
    {
     "name": "stdout",
     "output_type": "stream",
     "text": [
      "train_time:2.320s\n",
      "\n",
      "test_time:0.090s\n",
      "\n"
     ]
    }
   ],
   "source": [
    "# Create Decision Tree classifer object\n",
    "clf_Tree = DecisionTreeClassifier()\n",
    "train0 = time.time()\n",
    "# Train Decision Tree Classifer\n",
    "clf_Tree = clf_Tree.fit(train_data, train_target.astype(int))\n",
    "train1 = time.time() - train0\n",
    "print(\"train_time:%.3fs\\n\" %train1)\n",
    "\n",
    "\n",
    "test0 = time.time()\n",
    "Y_pred_DT=clf_Tree.predict(X_test)\n",
    "test1 = time.time() - test0\n",
    "print(\"test_time:%.3fs\\n\" %test1)"
   ]
  },
  {
   "cell_type": "code",
   "execution_count": 89,
   "metadata": {},
   "outputs": [],
   "source": [
    "y_test_DTprob = clf_Tree.predict_proba(X_test)[:,1]"
   ]
  },
  {
   "cell_type": "code",
   "execution_count": 40,
   "metadata": {},
   "outputs": [
    {
     "name": "stdout",
     "output_type": "stream",
     "text": [
      "accuracy for validation:1.000s\n",
      "\n"
     ]
    }
   ],
   "source": [
    "#train accuracy\n",
    "from sklearn import metrics\n",
    "Y_pred_val=clf_Tree.predict(valid_data)\n",
    "accuracy =sum(Y_pred_val==valid_target)/len(valid_target)\n",
    "print(\"accuracy for validation:%.3fs\\n\" %accuracy)"
   ]
  },
  {
   "cell_type": "code",
   "execution_count": 68,
   "metadata": {},
   "outputs": [
    {
     "data": {
      "text/html": [
       "<div>\n",
       "<style scoped>\n",
       "    .dataframe tbody tr th:only-of-type {\n",
       "        vertical-align: middle;\n",
       "    }\n",
       "\n",
       "    .dataframe tbody tr th {\n",
       "        vertical-align: top;\n",
       "    }\n",
       "\n",
       "    .dataframe thead th {\n",
       "        text-align: right;\n",
       "    }\n",
       "</style>\n",
       "<table border=\"1\" class=\"dataframe\">\n",
       "  <thead>\n",
       "    <tr style=\"text-align: right;\">\n",
       "      <th>Predicted attacks</th>\n",
       "      <th>0</th>\n",
       "      <th>1</th>\n",
       "    </tr>\n",
       "    <tr>\n",
       "      <th>Actual attacks</th>\n",
       "      <th></th>\n",
       "      <th></th>\n",
       "    </tr>\n",
       "  </thead>\n",
       "  <tbody>\n",
       "    <tr>\n",
       "      <th>0</th>\n",
       "      <td>60168</td>\n",
       "      <td>425</td>\n",
       "    </tr>\n",
       "    <tr>\n",
       "      <th>1</th>\n",
       "      <td>20221</td>\n",
       "      <td>230215</td>\n",
       "    </tr>\n",
       "  </tbody>\n",
       "</table>\n",
       "</div>"
      ],
      "text/plain": [
       "Predicted attacks      0       1\n",
       "Actual attacks                  \n",
       "0                  60168     425\n",
       "1                  20221  230215"
      ]
     },
     "execution_count": 68,
     "metadata": {},
     "output_type": "execute_result"
    }
   ],
   "source": [
    "# Create confusion matrix for test data\n",
    "pd.crosstab(Y_test, Y_pred_DT, rownames=['Actual attacks'], colnames=['Predicted attacks'])\n"
   ]
  },
  {
   "cell_type": "code",
   "execution_count": 69,
   "metadata": {},
   "outputs": [
    {
     "name": "stdout",
     "output_type": "stream",
     "text": [
      "              precision    recall  f1-score   support\n",
      "\n",
      "           0       0.75      0.99      0.85     60593\n",
      "           1       1.00      0.92      0.96    250436\n",
      "\n",
      "    accuracy                           0.93    311029\n",
      "   macro avg       0.87      0.96      0.91    311029\n",
      "weighted avg       0.95      0.93      0.94    311029\n",
      "\n",
      "AUC_DT:0.956\n"
     ]
    }
   ],
   "source": [
    "\n",
    "print(metrics.classification_report(Y_test,Y_pred_DT))\n",
    "auc_DT = metrics.roc_auc_score(Y_test, Y_pred_DT)\n",
    "print('AUC_DT:%.3f'%auc_DT)"
   ]
  },
  {
   "cell_type": "markdown",
   "metadata": {},
   "source": [
    "# xgboost"
   ]
  },
  {
   "cell_type": "code",
   "execution_count": 43,
   "metadata": {},
   "outputs": [
    {
     "name": "stderr",
     "output_type": "stream",
     "text": [
      "c:\\Users\\haile\\anaconda3\\lib\\site-packages\\xgboost\\compat.py:36: FutureWarning: pandas.Int64Index is deprecated and will be removed from pandas in a future version. Use pandas.Index with the appropriate dtype instead.\n",
      "  from pandas import MultiIndex, Int64Index\n"
     ]
    }
   ],
   "source": [
    "from xgboost import XGBClassifier\n",
    "from sklearn.metrics import accuracy_score\n",
    "from xgboost import plot_importance\n",
    "from matplotlib import pyplot"
   ]
  },
  {
   "cell_type": "code",
   "execution_count": 76,
   "metadata": {},
   "outputs": [
    {
     "name": "stderr",
     "output_type": "stream",
     "text": [
      "c:\\Users\\haile\\anaconda3\\lib\\site-packages\\xgboost\\sklearn.py:1224: UserWarning: The use of label encoder in XGBClassifier is deprecated and will be removed in a future release. To remove this warning, do the following: 1) Pass option use_label_encoder=False when constructing XGBClassifier object; and 2) Encode your labels (y) as integers starting with 0, i.e. 0, 1, 2, ..., [num_class - 1].\n",
      "  warnings.warn(label_encoder_deprecation_msg, UserWarning)\n"
     ]
    },
    {
     "name": "stdout",
     "output_type": "stream",
     "text": [
      "[00:51:55] WARNING: C:\\Windows\\Temp\\abs_557yfx631l\\croots\\recipe\\xgboost-split_1659548953302\\work\\src\\learner.cc:1115: Starting in XGBoost 1.3.0, the default evaluation metric used with the objective 'binary:logistic' was changed from 'error' to 'logloss'. Explicitly set eval_metric if you'd like to restore the old behavior.\n",
      "train_time:7.505s\n",
      "\n",
      "test_time:0.096s\n",
      "\n",
      "Accuracy: 92.78%\n"
     ]
    }
   ],
   "source": [
    "model = XGBClassifier()\n",
    "train0 = time.time()\n",
    "model.fit(train_data,train_target.astype(int))\n",
    "train1 = time.time() - train0\n",
    "print(\"train_time:%.3fs\\n\" %train1)\n",
    "\n",
    "test0 = time.time()\n",
    "y_pred_xgb = model.predict(X_test)\n",
    "test1 = time.time() - test0\n",
    "print(\"test_time:%.3fs\\n\" %test1)\n",
    "\n",
    "\n",
    "accuracy = accuracy_score(Y_test, y_pred_xgb)\n",
    "print(\"Accuracy: %.2f%%\" % (accuracy * 100.0))\n",
    "\n",
    "#plot_importance(model)\n",
    "#pyplot.show()"
   ]
  },
  {
   "cell_type": "code",
   "execution_count": 77,
   "metadata": {},
   "outputs": [],
   "source": [
    "y_test_xgbprob =model.predict_proba(X_test)[:,1]"
   ]
  },
  {
   "cell_type": "code",
   "execution_count": 78,
   "metadata": {},
   "outputs": [
    {
     "name": "stdout",
     "output_type": "stream",
     "text": [
      "              precision    recall  f1-score   support\n",
      "\n",
      "           0       0.73      0.99      0.84     60593\n",
      "           1       1.00      0.91      0.95    250436\n",
      "\n",
      "    accuracy                           0.93    311029\n",
      "   macro avg       0.87      0.95      0.90    311029\n",
      "weighted avg       0.95      0.93      0.93    311029\n",
      "\n",
      "AUC_xgb:0.953\n"
     ]
    }
   ],
   "source": [
    "print(metrics.classification_report(Y_test,y_pred_xgb))\n",
    "auc_xgb = metrics.roc_auc_score(Y_test, y_pred_xgb)\n",
    "print('AUC_xgb:%.3f'%auc_xgb)"
   ]
  },
  {
   "cell_type": "markdown",
   "metadata": {},
   "source": [
    "## summary\n"
   ]
  },
  {
   "cell_type": "code",
   "execution_count": 87,
   "metadata": {},
   "outputs": [],
   "source": [
    "#roc,auc\n",
    "import matplotlib.pyplot as plt\n",
    "def multi_models_roc(names, y_test_predprob, colors, y_test, save=True, dpin=100):\n",
    "        \"\"\"\n",
    "        将多个机器模型的roc图输出到一张图上\n",
    "        \n",
    "        Args:\n",
    "            names: list, 多个模型的名称\n",
    "            sampling_methods: list, 多个模型的实例化对象\n",
    "            save: 选择是否将结果保存（默认为png格式）\n",
    "            \n",
    "        Returns:\n",
    "            返回图片对象plt\n",
    "        \"\"\"\n",
    "        plt.figure(figsize=(10, 10), dpi=dpin)\n",
    "\n",
    "        for (name, method, colorname) in zip(names, y_test_predprob, colors):\n",
    "            \n",
    "            fpr, tpr,thresholds = roc_curve(y_test, method, pos_label=1)\n",
    "            \n",
    "            plt.plot(fpr, tpr, lw=3, label='{} (AUC={:.3f})'.format(name, auc(fpr, tpr)),color = colorname)\n",
    "            plt.plot([0, 1], [0, 1], '--', lw=5, color = 'grey')\n",
    "            plt.axis('square')\n",
    "            plt.xlim([0, 1])\n",
    "            plt.ylim([0, 1])\n",
    "            plt.xlabel('False Positive Rate',fontsize=20)\n",
    "            plt.ylabel('True Positive Rate',fontsize=20)\n",
    "            plt.title('ROC Curve',fontsize=25)\n",
    "            plt.legend(loc='lower right',fontsize=20)\n",
    "\n",
    "        if save:\n",
    "            plt.savefig('multi_models_roc.png')\n",
    "            \n",
    "        return plt"
   ]
  },
  {
   "cell_type": "code",
   "execution_count": 90,
   "metadata": {},
   "outputs": [
    {
     "data": {
      "image/png": "[encoded data removed]",
      "text/plain": [
       "<Figure size 1000x1000 with 1 Axes>"
      ]
     },
     "metadata": {},
     "output_type": "display_data"
    }
   ],
   "source": [
    "names = ['Logistic Regression','Decision Tree','Xgboost','KNN']\n",
    "y_test_predprob=[y_test_lrprob,y_test_DTprob,y_test_xgbprob,y_test_knnprob]\n",
    "colors = ['crimson','orange','mediumseagreen','steelblue']\n",
    "#ROC curves\n",
    "train_roc_graph = multi_models_roc(names, y_test_predprob, colors, Y_test,  save = True)\n",
    "train_roc_graph.savefig('ROC_Train_all.png')\n"
   ]
  }
 ],
 "metadata": {
  "kernelspec": {
   "display_name": "Python 3.9.13 ('base')",
   "language": "python",
   "name": "python3"
  },
  "language_info": {
   "codemirror_mode": {
    "name": "ipython",
    "version": 3
   },
   "file_extension": ".py",
   "mimetype": "text/x-python",
   "name": "python",
   "nbconvert_exporter": "python",
   "pygments_lexer": "ipython3",
   "version": "3.9.13"
  },
  "orig_nbformat": 4,
  "vscode": {
   "interpreter": {
    "hash": "e233b3edd5e60f0904e3f8404c7ce821d9d17539f44ffe7eab4eba0129924986"
   }
  }
 },
 "nbformat": 4,
 "nbformat_minor": 2
}
