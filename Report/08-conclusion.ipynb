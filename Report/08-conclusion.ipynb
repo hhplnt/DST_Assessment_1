{
 "cells": [
  {
   "attachments": {},
   "cell_type": "markdown",
   "metadata": {},
   "source": [
    "# Conclusion\n",
    "\n",
    "The document summarises the assessment in three parts, the selection and division of the data, the model for binary classification and the model for multivariate classification.\n",
    "\n",
    "## Selection and Division of the Data\n",
    "\n",
    "As mentioned in the introductory document, due to our limited computer processing capacity, we used kddcup 10% of the data. And due to the variety of attack types, we have divided the 22 types of attacks into four main categories.\n",
    "\n",
    "For the division of the data, we first divided the 10% labeled dataset, with part of it serving as the training set and the remainder as the test set. We also used the 'labeled' dataset provided by kddcup1999 as the test set, which contains a dozen attack types that were not included in the training set.\n",
    "\n",
    "## Binary Classification\n",
    "\n",
    "In the binary classification model, we used logistic regression, decision tree, xgboost and kNN as classifiers. All four models have a relatively high accuracy rate for classification.\n",
    "\n",
    "## Multivariate Classification\n",
    "\n",
    "Three models were used in the multi-classification model, Xgboost, Multi- logistic Regression and kNN. the accuracy and comparison of these three types of models can be found in document 07."
   ]
  }
 ],
 "metadata": {
  "kernelspec": {
   "display_name": "base",
   "language": "python",
   "name": "python3"
  },
  "language_info": {
   "codemirror_mode": {
    "name": "ipython",
    "version": 3
   },
   "file_extension": ".py",
   "mimetype": "text/x-python",
   "name": "python",
   "nbconvert_exporter": "python",
   "pygments_lexer": "ipython3",
   "version": "3.9.13 (main, Aug 25 2022, 23:51:50) [MSC v.1916 64 bit (AMD64)]"
  },
  "orig_nbformat": 4,
  "vscode": {
   "interpreter": {
    "hash": "e233b3edd5e60f0904e3f8404c7ce821d9d17539f44ffe7eab4eba0129924986"
   }
  }
 },
 "nbformat": 4,
 "nbformat_minor": 2
}
